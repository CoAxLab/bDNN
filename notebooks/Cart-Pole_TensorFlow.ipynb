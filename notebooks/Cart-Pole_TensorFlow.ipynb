{
 "cells": [
  {
   "cell_type": "markdown",
   "metadata": {},
   "source": [
    "# Deep Q-Learning w/ TF ([git repo](https://github.com/kvfrans/openai-cartpole), [blog post](http://kvfrans.com/simple-algoritms-for-solving-cartpole/))"
   ]
  },
  {
   "cell_type": "code",
   "execution_count": 15,
   "metadata": {},
   "outputs": [],
   "source": [
    "import tensorflow as tf\n",
    "import numpy as np\n",
    "import random\n",
    "import gym\n",
    "import math\n",
    "import matplotlib.pyplot as plt\n",
    "\n",
    "def softmax(x):\n",
    "    e_x = np.exp(x - np.max(x))\n",
    "    out = e_x / e_x.sum()\n",
    "    return out\n",
    "\n",
    "def policy_gradient():\n",
    "    with tf.variable_scope(\"policy\", reuse=True):\n",
    "        params = tf.get_variable(\"policy_parameters\",[4,2])\n",
    "        state = tf.placeholder(\"float\",[None,4])\n",
    "        actions = tf.placeholder(\"float\",[None,2])\n",
    "        advantages = tf.placeholder(\"float\",[None,1])\n",
    "        linear = tf.matmul(state,params)\n",
    "        probabilities = tf.nn.softmax(linear)\n",
    "        good_probabilities = tf.reduce_sum(tf.multiply(probabilities, actions), reduction_indices=[1])\n",
    "        eligibility = tf.log(good_probabilities) * advantages\n",
    "        loss = -tf.reduce_sum(eligibility)\n",
    "        optimizer = tf.train.AdamOptimizer(0.01).minimize(loss)\n",
    "        return probabilities, state, actions, advantages, optimizer\n",
    "\n",
    "def value_gradient():\n",
    "    with tf.variable_scope(\"value\", reuse=True):\n",
    "        state = tf.placeholder(\"float\",[None,4])\n",
    "        newvals = tf.placeholder(\"float\",[None,1])\n",
    "        w1 = tf.get_variable(\"w1\",[4,10])\n",
    "        b1 = tf.get_variable(\"b1\",[10])\n",
    "        h1 = tf.nn.relu(tf.matmul(state,w1) + b1)\n",
    "        w2 = tf.get_variable(\"w2\",[10,1])\n",
    "        b2 = tf.get_variable(\"b2\",[1])\n",
    "        calculated = tf.matmul(h1,w2) + b2\n",
    "        diffs = calculated - newvals\n",
    "        loss = tf.nn.l2_loss(diffs)\n",
    "        optimizer = tf.train.AdamOptimizer(0.1).minimize(loss)\n",
    "        return calculated, state, newvals, optimizer, loss\n",
    "\n",
    "def run_episode(env, policy_grad, value_grad, sess):\n",
    "    pl_calculated, pl_state, pl_actions, pl_advantages, pl_optimizer = policy_grad\n",
    "    vl_calculated, vl_state, vl_newvals, vl_optimizer, vl_loss = value_grad\n",
    "    \n",
    "    observation = env.reset()\n",
    "    totalreward = 0\n",
    "    states = []\n",
    "    actions = []\n",
    "    advantages = []\n",
    "    transitions = []\n",
    "    update_vals = []\n",
    "\n",
    "\n",
    "    for _ in range(200):\n",
    "        # calculate policy\n",
    "        obs_vector = np.expand_dims(observation, axis=0)\n",
    "        probs = sess.run(pl_calculated,feed_dict={pl_state: obs_vector})\n",
    "        action = 0 if random.uniform(0,1) < probs[0][0] else 1\n",
    "        # record the transition\n",
    "        states.append(observation)\n",
    "        actionblank = np.zeros(2)\n",
    "        actionblank[action] = 1\n",
    "        actions.append(actionblank)\n",
    "        # take the action in the environment\n",
    "        old_observation = observation\n",
    "        observation, reward, done, info = env.step(action)\n",
    "        transitions.append((old_observation, action, reward))\n",
    "        totalreward += reward\n",
    "\n",
    "        if done: break\n",
    "            \n",
    "    for index, trans in enumerate(transitions):\n",
    "        obs, action, reward = trans\n",
    "\n",
    "        # calculate discounted monte-carlo return\n",
    "        future_reward = 0\n",
    "        future_transitions = len(transitions) - index\n",
    "        decrease = 1\n",
    "        for index2 in range(future_transitions):\n",
    "            future_reward += transitions[(index2) + index][2] * decrease\n",
    "            decrease = decrease * 0.97\n",
    "        obs_vector = np.expand_dims(obs, axis=0)\n",
    "        currentval = sess.run(vl_calculated,feed_dict={vl_state: obs_vector})[0][0]\n",
    "\n",
    "        # advantage: how much better was this action than normal\n",
    "        advantages.append(future_reward - currentval)\n",
    "\n",
    "        # update the value function towards new return\n",
    "        update_vals.append(future_reward)\n",
    "\n",
    "    # update value function\n",
    "    update_vals_vector = np.expand_dims(update_vals, axis=1)\n",
    "    sess.run(vl_optimizer, feed_dict={vl_state: states, vl_newvals: update_vals_vector})\n",
    "    # real_vl_loss = sess.run(vl_loss, feed_dict={vl_state: states, vl_newvals: update_vals_vector})\n",
    "\n",
    "    advantages_vector = np.expand_dims(advantages, axis=1)\n",
    "    sess.run(pl_optimizer, feed_dict={pl_state: states, pl_advantages: advantages_vector, pl_actions: actions})\n",
    "\n",
    "    return totalreward"
   ]
  },
  {
   "cell_type": "code",
   "execution_count": 17,
   "metadata": {},
   "outputs": [
    {
     "name": "stderr",
     "output_type": "stream",
     "text": [
      "[2017-09-19 05:13:08,865] Making new env: CartPole-v0\n"
     ]
    },
    {
     "name": "stdout",
     "output_type": "stream",
     "text": [
      "reward 200\n",
      "205\n",
      "163.008\n"
     ]
    }
   ],
   "source": [
    "env = gym.make('CartPole-v0')\n",
    "# env.start('cartpole-hill/', force=True)\n",
    "policy_grad = policy_gradient()\n",
    "value_grad = value_gradient()\n",
    "sess = tf.InteractiveSession()\n",
    "sess.run(tf.global_variables_initializer())\n",
    "\n",
    "for i in range(2000):\n",
    "    reward = run_episode(env, policy_grad, value_grad, sess)\n",
    "    if reward == 200:\n",
    "        print(\"reward 200\")\n",
    "        print(i)\n",
    "        break\n",
    "\n",
    "t = 0\n",
    "for _ in range(1000):\n",
    "    reward = run_episode(env, policy_grad, value_grad, sess)\n",
    "    t += reward\n",
    "    \n",
    "print(t / 1000)\n",
    "env.close()"
   ]
  },
  {
   "cell_type": "code",
   "execution_count": null,
   "metadata": {
    "collapsed": true
   },
   "outputs": [],
   "source": []
  }
 ],
 "metadata": {
  "kernelspec": {
   "display_name": "Python 3",
   "language": "python",
   "name": "python3"
  },
  "language_info": {
   "codemirror_mode": {
    "name": "ipython",
    "version": 3
   },
   "file_extension": ".py",
   "mimetype": "text/x-python",
   "name": "python",
   "nbconvert_exporter": "python",
   "pygments_lexer": "ipython3",
   "version": "3.6.1"
  }
 },
 "nbformat": 4,
 "nbformat_minor": 2
}
