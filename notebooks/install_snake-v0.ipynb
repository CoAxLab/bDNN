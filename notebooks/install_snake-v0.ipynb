{
 "cells": [
  {
   "cell_type": "markdown",
   "metadata": {},
   "source": [
    "# Installing the Snake environment"
   ]
  },
  {
   "cell_type": "markdown",
   "metadata": {},
   "source": [
    "The following steps assume that you have already installed <font color='red'>OpenAI Gym</font> and <font color='red'>Anaconda</font>. If you're using macOS, you'll also need <font color='red'>homebrew</font>. Kyle's [notebook](https://github.com/CoAxLab/bDNN/blob/master/notebooks/Env%20Setup%20and%20Install%20Instructions.ipynb) covers how to install OpenAI Gym and homebrew.\n",
    "\n",
    "If needed, follow the links below to install Anaconda:\n",
    "* [Linux](https://conda.io/docs/user-guide/install/linux.html)\n",
    "* [macOS](https://conda.io/docs/user-guide/install/macos.html)\n",
    "\n",
    "___\n",
    "[The bulk of the following instructions come from the readme for the gym-ple package [repository](https://github.com/lusob/gym-ple) by [Luis Sobrecueva](https://github.com/lusob).]"
   ]
  },
  {
   "cell_type": "markdown",
   "metadata": {},
   "source": [
    "## 1) activate the tensorflow environment \n",
    "___\n",
    "\n",
    "Activate the tensorflow environment that we built earlier (instructions [here](https://github.com/CoAxLab/bDNN/blob/master/notebooks/Env%20Setup%20and%20Install%20Instructions.ipynb)). \n",
    "```\n",
    "source activate tensorflow\n",
    "```"
   ]
  },
  {
   "cell_type": "markdown",
   "metadata": {},
   "source": [
    "## 2) install PyGame  \n",
    "___\n",
    "\n",
    "### **macOS**:\n",
    "For macOS, first manually install the SDL libraries to let PyGame access low-level graphics, audio, etc. Then install PyGame.\n",
    "```\n",
    "brew install sdl sdl_ttf sdl_image sdl_mixer portmidi\n",
    "pip install pygame \n",
    "```\n",
    "### **Ubuntu**: \n",
    "For Ubuntu, the SDL libraries are installed with PyGame: \n",
    "````\n",
    "pip install pygame \n",
    "```\n"
   ]
  },
  {
   "cell_type": "markdown",
   "metadata": {},
   "source": [
    "## 3) install the PyGame Learning Environment (PLE)\n",
    "___\n",
    "\n",
    "```\n",
    "git clone https://github.com/ntasfi/PyGame-Learning-Environment.git\n",
    "cd PyGame-Learning-Environment/\n",
    "sudo pip install -e .\n",
    "```"
   ]
  },
  {
   "cell_type": "markdown",
   "metadata": {},
   "source": [
    "## 4) install the gym-ple package\n",
    "___\n",
    "The gym-ple package allows a PLE to be used as an openai gym environment. Clone it and go to the gym-ple folder:\n",
    "```\n",
    "git clone https://github.com/lusob/gym-ple.git\n",
    "cd gym-ple/\n",
    "```\n",
    "Install an editable version of the package: \n",
    "```\n",
    "sudo pip install -e .  \n",
    "```"
   ]
  }
 ],
 "metadata": {
  "kernelspec": {
   "display_name": "Python 3",
   "language": "python",
   "name": "python3"
  },
  "language_info": {
   "codemirror_mode": {
    "name": "ipython",
    "version": 3
   },
   "file_extension": ".py",
   "mimetype": "text/x-python",
   "name": "python",
   "nbconvert_exporter": "python",
   "pygments_lexer": "ipython3",
   "version": "3.6.0"
  }
 },
 "nbformat": 4,
 "nbformat_minor": 2
}
